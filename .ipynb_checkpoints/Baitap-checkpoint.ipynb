{
 "cells": [
  {
   "cell_type": "markdown",
   "metadata": {},
   "source": [
    "Viết 1 class để thực hiện:\n",
    "\n",
    "- Dựng hàm khởi tạo để nhập vào 2 mảng\n",
    "\n",
    "- Tính GTTB (mean) của 2 mảng ($\\mu_{1},\\mu_{2}$)\n",
    "\n",
    "- Tính mode ($m_{1},m_{2}$)\n",
    "\n",
    "- Tính phương sai ($v_{1}, v_{2}$)\n",
    "- Tính độ lệch chuẩn $\\sigma_{1}, \\sigma_{2}$"
   ]
  },
  {
   "cell_type": "code",
   "execution_count": 52,
   "metadata": {},
   "outputs": [],
   "source": [
    "import random \n",
    "import numpy as np\n",
    "import math\n",
    "import pandas as pd\n",
    "from scipy import stats\n",
    "import statistics\n"
   ]
  },
  {
   "cell_type": "code",
   "execution_count": 56,
   "metadata": {},
   "outputs": [
    {
     "name": "stdout",
     "output_type": "stream",
     "text": [
      " Nhap count: 10 \n",
      " Nhap count: 5\n",
      "--------------------------------------------------\n",
      "[14.99627983  5.76630416 11.74653817 10.89501059  5.843025   11.26376526\n",
      "  7.66073582 13.66387261 10.92781514  9.59301049]\n",
      "GTTB cua mang a la:  10.235635707061872\n",
      "Mode cua mang a la:  ModeResult(mode=array([5.76630416]), count=array([1]))\n",
      "Variance cua mang a la:  9.442592762345624\n",
      "Standard deviation cua mang a la:  3.0728802063122513\n",
      "--------------------------------------------------\n",
      "[14.0508388   7.2496704  10.77219064 10.88653039 10.82158256]\n",
      "GTTB cua mang b la:  10.756162560417843\n"
     ]
    }
   ],
   "source": [
    "class bt:\n",
    "    \n",
    "    def __init__(self):\n",
    "        count = int(input(' Nhap count: '))\n",
    "        self.array = np.random.normal(10, 3, count)\n",
    "        \n",
    "    def mean(self):\n",
    "        return sum(self.array)/len(self.array)\n",
    "    \n",
    "    def mode(self):\n",
    "        return stats.mode(self.array)\n",
    "    \n",
    "    def var(self):\n",
    "        return statistics.variance(self.array)\n",
    "    \n",
    "    def sig(self):\n",
    "        return statistics.stdev(self.array)\n",
    "    \n",
    "        \n",
    "    \n",
    "\n",
    "\n",
    "a = bt()\n",
    "b = bt()\n",
    "print('-'*50)\n",
    "print(a.array)\n",
    "print('GTTB cua mang a la: ', a.mean())\n",
    "print('Mode cua mang a la: ', a.mode())\n",
    "print('Variance cua mang a la: ', a.var())\n",
    "print('Standard deviation cua mang a la: ', a.sig())\n",
    "print('-'*50)\n",
    "print(b.array)\n",
    "print('GTTB cua mang b la: ', b.mean())"
   ]
  }
 ],
 "metadata": {
  "kernelspec": {
   "display_name": "Python 3",
   "language": "python",
   "name": "python3"
  },
  "language_info": {
   "codemirror_mode": {
    "name": "ipython",
    "version": 3
   },
   "file_extension": ".py",
   "mimetype": "text/x-python",
   "name": "python",
   "nbconvert_exporter": "python",
   "pygments_lexer": "ipython3",
   "version": "3.8.5"
  }
 },
 "nbformat": 4,
 "nbformat_minor": 4
}
